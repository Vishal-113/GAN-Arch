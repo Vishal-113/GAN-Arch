{
  "nbformat": 4,
  "nbformat_minor": 0,
  "metadata": {
    "colab": {
      "provenance": [],
      "authorship_tag": "ABX9TyNBfOr3saLqlbsHGm0VVl22",
      "include_colab_link": true
    },
    "kernelspec": {
      "name": "python3",
      "display_name": "Python 3"
    },
    "language_info": {
      "name": "python"
    }
  },
  "cells": [
    {
      "cell_type": "markdown",
      "metadata": {
        "id": "view-in-github",
        "colab_type": "text"
      },
      "source": [
        "<a href=\"https://colab.research.google.com/github/Vishal-113/GAN-Arch/blob/main/BIAS_and_Fairness_Tool.ipynb\" target=\"_parent\"><img src=\"https://colab.research.google.com/assets/colab-badge.svg\" alt=\"Open In Colab\"/></a>"
      ]
    },
    {
      "cell_type": "markdown",
      "source": [
        "### Bias Metric: **False Negative Rate Parity**\n",
        "\n",
        "#### **What the Metric Measures**\n",
        "\n",
        "False Negative Rate (FNR) Parity measures whether the rate of false negatives is consistent across different groups within the dataset (e.g., gender, race, age). A false negative occurs when a model incorrectly predicts a negative outcome for a positive case (e.g., rejecting a loan application for a creditworthy applicant).\n",
        "\n",
        "#### **Why It's Important**\n",
        "\n",
        "1. **Fairness**: Ensures that certain groups are not disproportionately impacted by being denied benefits or opportunities.\n",
        "2. **Equity**: Helps identify and mitigate systemic biases that might disadvantage marginalized groups.\n",
        "3. **Trust**: Promotes user confidence in the model by demonstrating balanced treatment.\n",
        "\n",
        "#### **How a Model Might Fail This Metric**\n",
        "\n",
        "A model might fail FNR parity if:\n",
        "\n",
        "* The training data is imbalanced, with fewer positive examples for certain groups.\n",
        "* The model overfits to majority group patterns, underperforming on minority groups.\n",
        "* Features that correlate with group membership amplify existing biases in the data.\n",
        "\n",
        "---\n",
        "\n",
        "### Applying Aequitas Bias Audit Tool\n",
        "\n",
        "To explore this metric:\n",
        "\n",
        "1. **Input a Dataset**: Use a dataset with a binary outcome (e.g., loan approval) and group attributes (e.g., gender, race).\n",
        "2. **Select FNR Parity**: Analyze whether the false negative rates differ significantly between groups.\n",
        "3. **Inspect Results**:\n",
        "\n",
        "   * If disparities exist, consider rebalancing the training data or re-engineering feature\n"
      ],
      "metadata": {
        "id": "k45baA-eYZd-"
      }
    }
  ]
}